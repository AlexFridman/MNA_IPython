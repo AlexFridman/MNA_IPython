{
 "cells": [
  {
   "cell_type": "code",
   "execution_count": 1,
   "metadata": {
    "collapsed": true
   },
   "outputs": [],
   "source": [
    "import numpy as np\n",
    "import sympy as sp\n",
    "from matplotlib import pyplot as plt\n",
    "from matplotlib import cm\n",
    "from mpl_toolkits.mplot3d import Axes3D\n",
    "import seaborn; seaborn.set()\n",
    "%matplotlib inline\n",
    "from math import cos, sin"
   ]
  },
  {
   "cell_type": "code",
   "execution_count": 2,
   "metadata": {
    "collapsed": false
   },
   "outputs": [],
   "source": [
    "x, t = sp.symbols('x t')"
   ]
  },
  {
   "cell_type": "code",
   "execution_count": 3,
   "metadata": {
    "collapsed": false
   },
   "outputs": [],
   "source": [
    "p = t**2 / 2\n",
    "q = .5 + .5 * t**2 + t\n",
    "s = .5 * x**2\n",
    "f = sin(14) + t + cos(14) * x + 1"
   ]
  },
  {
   "cell_type": "code",
   "execution_count": 4,
   "metadata": {
    "collapsed": false
   },
   "outputs": [],
   "source": [
    "def p_vect(t):\n",
    "    return p.subs('t', t)\n",
    "p_vect = np.vectorize(p_vect)\n",
    "\n",
    "def q_vect(t):\n",
    "    return q.subs('t', t)\n",
    "q_vect = np.vectorize(q_vect)\n",
    "\n",
    "def s_vect(x):\n",
    "    return s.subs('x', x)\n",
    "s_vect = np.vectorize(s_vect)\n",
    "\n",
    "def f_vect(x, t):\n",
    "    return f.subs({'x':x, 't':t})\n",
    "f_vect = np.vectorize(f_vect)"
   ]
  },
  {
   "cell_type": "code",
   "execution_count": 5,
   "metadata": {
    "collapsed": true
   },
   "outputs": [],
   "source": [
    "N = 4\n",
    "M = 4\n",
    "tau = 1/M\n",
    "h = 1/N"
   ]
  },
  {
   "cell_type": "code",
   "execution_count": 6,
   "metadata": {
    "collapsed": true
   },
   "outputs": [],
   "source": [
    "grid = np.zeros((N+1, M+1))"
   ]
  },
  {
   "cell_type": "code",
   "execution_count": 7,
   "metadata": {
    "collapsed": false
   },
   "outputs": [],
   "source": [
    "grid[N,:] = s_vect(np.arange(0, N+1) * h)\n",
    "grid[0:-1,0] = p_vect(tau * (M - np.arange(0, M)))\n",
    "grid[0:-1,M] = p_vect(tau * (M - np.arange(0, M)))"
   ]
  },
  {
   "cell_type": "code",
   "execution_count": 8,
   "metadata": {
    "collapsed": false
   },
   "outputs": [],
   "source": [
    "for i in range(1, N):\n",
    "    for j in range(1, M):\n",
    "        grid[i, j] = tau / h**2 * grid[j-1, i-1] \\\n",
    "                       + (1 - 2*tau / h**2) * grid[j-1, i] \\\n",
    "                       + tau / h**2 * grid[j-1, i+1] \\\n",
    "                       + tau * f_vect(j, i-1)"
   ]
  },
  {
   "cell_type": "code",
   "execution_count": 33,
   "metadata": {
    "collapsed": false
   },
   "outputs": [
    {
     "data": {
      "image/png": "[encoded data removed]",
      "text/plain": [
       "<matplotlib.figure.Figure at 0x2fecd68>"
      ]
     },
     "metadata": {},
     "output_type": "display_data"
    }
   ],
   "source": [
    "from IPython.html.widgets import interact\n",
    "\n",
    "@interact\n",
    "def plot(elev=28, azim=72):\n",
    "    fig = plt.figure()\n",
    "    ax = fig.gca(projection='3d')\n",
    "    XXX = np.arange(0, 1+h, h, dtype = float)\n",
    "    YYY = np.arange(0, 1+tau, tau, dtype = float)\n",
    "    XXX, YYY = np.meshgrid(XXX, YYY)\n",
    "    surf = ax.plot_surface(XXX, YYY, grid, rstride=1, cstride=1, cmap=cm.coolwarm, linewidth=0, antialiased=False)\n",
    "    t = fig.colorbar(surf, shrink=0.5, aspect=5)\n",
    "    ax.view_init(elev, azim)\n",
    "    plt.show()"
   ]
  }
 ],
 "metadata": {
  "kernelspec": {
   "display_name": "Python 3",
   "language": "python",
   "name": "python3"
  },
  "language_info": {
   "codemirror_mode": {
    "name": "ipython",
    "version": 3
   },
   "file_extension": ".py",
   "mimetype": "text/x-python",
   "name": "python",
   "nbconvert_exporter": "python",
   "pygments_lexer": "ipython3",
   "version": "3.4.3"
  }
 },
 "nbformat": 4,
 "nbformat_minor": 0
}
