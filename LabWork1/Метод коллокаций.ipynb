{
 "cells": [
  {
   "cell_type": "code",
   "execution_count": 1,
   "metadata": {
    "collapsed": true
   },
   "outputs": [],
   "source": [
    "import sympy\n",
    "import numpy as np\n",
    "x, a0 ,a1, a2 = sympy.symbols('x a0 a1 a2')"
   ]
  },
  {
   "cell_type": "code",
   "execution_count": 2,
   "metadata": {
    "collapsed": true
   },
   "outputs": [],
   "source": [
    "p = 0;\n",
    "q = (1 + x**2)\n",
    "f=-1;"
   ]
  },
  {
   "cell_type": "code",
   "execution_count": 3,
   "metadata": {
    "collapsed": true
   },
   "outputs": [],
   "source": [
    "phi = np.array([0, 1 - x**2, x**2 - x**4])\n",
    "a = np.array([a0, a1, a2])\n",
    "y_m = np.dot(phi, a)"
   ]
  },
  {
   "cell_type": "code",
   "execution_count": 4,
   "metadata": {
    "collapsed": true
   },
   "outputs": [],
   "source": [
    "y_m_d1 = sympy.diff(y_m,x)\n",
    "y_m_d2 = sympy.diff(y_m_d1,x)"
   ]
  },
  {
   "cell_type": "code",
   "execution_count": 5,
   "metadata": {
    "collapsed": true
   },
   "outputs": [],
   "source": [
    "psi_base = y_m_d2 + p * y_m_d1 + q * y_m - f;"
   ]
  },
  {
   "cell_type": "code",
   "execution_count": 6,
   "metadata": {
    "collapsed": true
   },
   "outputs": [],
   "source": [
    "psi_0 = psi_base.subs(x, -1/2);\n",
    "psi_1 = psi_base.subs(x, 0);\n",
    "psi_2 = psi_base.subs(x, 1/2);"
   ]
  },
  {
   "cell_type": "code",
   "execution_count": 7,
   "metadata": {
    "collapsed": true
   },
   "outputs": [],
   "source": [
    "A = [psi_2,\n",
    "     psi_0,\n",
    "     psi_1]"
   ]
  },
  {
   "cell_type": "code",
   "execution_count": 10,
   "metadata": {
    "collapsed": false
   },
   "outputs": [
    {
     "name": "stdout",
     "output_type": "stream",
     "text": [
      "{a2: -0.0216216216216216, a1: 0.956756756756757}\n"
     ]
    }
   ],
   "source": [
    "sol = sympy.solve(A, a1,a2)\n",
    "print(sol)"
   ]
  },
  {
   "cell_type": "code",
   "execution_count": 11,
   "metadata": {
    "collapsed": false
   },
   "outputs": [
    {
     "name": "stdout",
     "output_type": "stream",
     "text": [
      "0.0216216216216216*x**4 - 0.978378378378378*x**2 + 0.956756756756757\n"
     ]
    }
   ],
   "source": [
    "sol[a0] = 0\n",
    "solution = y_m.subs((k, float(sol[k])) for k in sol)\n",
    "print(solution)\n",
    "# решение"
   ]
  },
  {
   "cell_type": "code",
   "execution_count": null,
   "metadata": {
    "collapsed": true
   },
   "outputs": [],
   "source": []
  }
 ],
 "metadata": {
  "kernelspec": {
   "display_name": "Python 3",
   "language": "python",
   "name": "python3"
  },
  "language_info": {
   "codemirror_mode": {
    "name": "ipython",
    "version": 3
   },
   "file_extension": ".py",
   "mimetype": "text/x-python",
   "name": "python",
   "nbconvert_exporter": "python",
   "pygments_lexer": "ipython3",
   "version": "3.4.3"
  }
 },
 "nbformat": 4,
 "nbformat_minor": 0
}
