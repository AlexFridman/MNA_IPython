{
 "cells": [
  {
   "cell_type": "code",
   "execution_count": 11,
   "metadata": {
    "collapsed": true
   },
   "outputs": [],
   "source": [
    "import sympy\n",
    "import numpy as np\n",
    "from matplotlib import pyplot as plt\n",
    "%matplotlib inline  \n",
    "x, a0 ,a1, a2 = sympy.symbols('x a0 a1 a2')"
   ]
  },
  {
   "cell_type": "code",
   "execution_count": 2,
   "metadata": {
    "collapsed": false
   },
   "outputs": [
    {
     "name": "stdout",
     "output_type": "stream",
     "text": [
      "базовая апроксимирующая функция: a1*(-x**2 + 1) + a2*(-x**4 + x**2)\n"
     ]
    }
   ],
   "source": [
    "phi = np.array([0, 1 - x**2, x**2 - x**4])\n",
    "a = np.array([a0, a1, a2])\n",
    "y_m = np.dot(phi, a)\n",
    "print(\"базовая апроксимирующая функция:\", y_m)"
   ]
  },
  {
   "cell_type": "code",
   "execution_count": 3,
   "metadata": {
    "collapsed": true
   },
   "outputs": [],
   "source": [
    "collocation_method = {a2: -0.0216216216216216, a1: 0.956756756756757, a0: 0}\n",
    "integral_ssm = {a2: -0.06818055253845283, a1: 0.932718449430728, a0: 0}\n",
    "discrete_ssm = {a2: -0.0216216216216216, a1: 0.956756756756757, a0: 0}\n",
    "galerkins_method = {a2: -0.05432737535277517, a1: 0.9334430856067732, a0: 0}"
   ]
  },
  {
   "cell_type": "code",
   "execution_count": 4,
   "metadata": {
    "collapsed": true
   },
   "outputs": [],
   "source": [
    "solution_1 = y_m.subs((k, collocation_method[k]) for k in collocation_method)\n",
    "solution_2 = y_m.subs((k, integral_ssm[k]) for k in integral_ssm)\n",
    "solution_3 = y_m.subs((k, discrete_ssm[k]) for k in discrete_ssm)\n",
    "solution_4 = y_m.subs((k, galerkins_method[k]) for k in galerkins_method)"
   ]
  },
  {
   "cell_type": "code",
   "execution_count": 12,
   "metadata": {
    "collapsed": false
   },
   "outputs": [
    {
     "data": {
      "image/png": "[encoded data removed]",
      "text/plain": [
       "<matplotlib.figure.Figure at 0x9506da0>"
      ]
     },
     "metadata": {},
     "output_type": "display_data"
    }
   ],
   "source": [
    "lspace = np.linspace(-1, 1, num=10)\n",
    "y_1 = [solution_1.subs(x, x_i) for x_i in lspace]\n",
    "y_2 = [solution_2.subs(x, x_i) for x_i in lspace]\n",
    "y_3 = [solution_3.subs(x, x_i) for x_i in lspace]\n",
    "y_4 = [solution_4.subs(x, x_i) for x_i in lspace]\n",
    "plt.plot(lspace, y_1)\n",
    "plt.plot(lspace, y_2)\n",
    "plt.plot(lspace, y_3)\n",
    "plt.plot(lspace, y_4)\n",
    "plt.show()"
   ]
  },
  {
   "cell_type": "code",
   "execution_count": null,
   "metadata": {
    "collapsed": true
   },
   "outputs": [],
   "source": []
  },
  {
   "cell_type": "code",
   "execution_count": null,
   "metadata": {
    "collapsed": true
   },
   "outputs": [],
   "source": []
  }
 ],
 "metadata": {
  "kernelspec": {
   "display_name": "Python 3",
   "language": "python",
   "name": "python3"
  },
  "language_info": {
   "codemirror_mode": {
    "name": "ipython",
    "version": 3
   },
   "file_extension": ".py",
   "mimetype": "text/x-python",
   "name": "python",
   "nbconvert_exporter": "python",
   "pygments_lexer": "ipython3",
   "version": "3.4.3"
  }
 },
 "nbformat": 4,
 "nbformat_minor": 0
}
