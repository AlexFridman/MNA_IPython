{
 "cells": [
  {
   "cell_type": "code",
   "execution_count": 23,
   "metadata": {
    "collapsed": true
   },
   "outputs": [],
   "source": [
    "import sympy\n",
    "import numpy as np\n",
    "from sympy import *\n",
    "x, a0 ,a1, a2 = sympy.symbols('x a0 a1 a2')"
   ]
  },
  {
   "cell_type": "code",
   "execution_count": 24,
   "metadata": {
    "collapsed": true
   },
   "outputs": [],
   "source": [
    "p = 0;\n",
    "q = (1 + x**2)\n",
    "f=-1;"
   ]
  },
  {
   "cell_type": "code",
   "execution_count": 25,
   "metadata": {
    "collapsed": false
   },
   "outputs": [
    {
     "name": "stdout",
     "output_type": "stream",
     "text": [
      "апрокимирующая функция: a1*(-x**2 + 1) + a2*(-x**4 + x**2)\n"
     ]
    }
   ],
   "source": [
    "phi = np.array([0, 1 - x**2, x**2 - x**4])\n",
    "a = np.array([a0, a1, a2])\n",
    "y_m = np.dot(phi, a)\n",
    "print(\"апрокимирующая функция:\",y_m)"
   ]
  },
  {
   "cell_type": "code",
   "execution_count": 26,
   "metadata": {
    "collapsed": false
   },
   "outputs": [],
   "source": [
    "y_m_d1 = sympy.diff(y_m,x)\n",
    "y_m_d2 = sympy.diff(y_m_d1,x)"
   ]
  },
  {
   "cell_type": "code",
   "execution_count": 27,
   "metadata": {
    "collapsed": false
   },
   "outputs": [
    {
     "name": "stdout",
     "output_type": "stream",
     "text": [
      "невязка: -a1*x**4 - a1 - a2*x**6 - 11*a2*x**2 + 2*a2 + 1\n"
     ]
    }
   ],
   "source": [
    "psi_base = y_m_d2 + p * y_m_d1 + q * y_m - f;\n",
    "print(\"невязка:\", simplify(psi_base))"
   ]
  },
  {
   "cell_type": "code",
   "execution_count": 28,
   "metadata": {
    "collapsed": false
   },
   "outputs": [
    {
     "name": "stdout",
     "output_type": "stream",
     "text": [
      "производные от невязки по a: [0, -x**4 - 1, -x**6 - 11*x**2 + 2]\n"
     ]
    }
   ],
   "source": [
    "psi_da = np.array([sympy.diff(psi_base, a0),sympy.diff(psi_base, a1), sympy.diff(psi_base, a2)])\n",
    "print(\"производные от невязки по a:\", [simplify(psi_da_i) for psi_da_i in psi_da])"
   ]
  },
  {
   "cell_type": "code",
   "execution_count": 29,
   "metadata": {
    "collapsed": false
   },
   "outputs": [
    {
     "name": "stdout",
     "output_type": "stream",
     "text": [
      "формирование системы: [0, ((x**2 - 1)*(x**2 + 1) + 2)*(2*a1 + 2*a2*(6*x**2 - 1) + (a1 + a2*x**2)*(x**2 - 1)*(x**2 + 1) - 1), (x**2*(x**2 - 1)*(x**2 + 1) + 12*x**2 - 2)*(2*a1 + 2*a2*(6*x**2 - 1) + (a1 + a2*x**2)*(x**2 - 1)*(x**2 + 1) - 1)]\n"
     ]
    }
   ],
   "source": [
    "A_temp = psi_da * psi_base\n",
    "print(\"формирование системы:\",  [simplify(A_temp_i) for A_temp_i in A_temp])"
   ]
  },
  {
   "cell_type": "code",
   "execution_count": 30,
   "metadata": {
    "collapsed": false
   },
   "outputs": [
    {
     "name": "stdout",
     "output_type": "stream",
     "text": [
      "система: [0, 272*a1/45 + 14192*a2/1155 - 24/5, 14192*a1/1155 + 253616*a2/4095 - 152/21]\n"
     ]
    }
   ],
   "source": [
    "A = [2*integrate(a_i_temp, (x,-1,1)) for a_i_temp in A_temp]\n",
    "print(\"система:\",  [simplify(A_i) for A_i in A])"
   ]
  },
  {
   "cell_type": "code",
   "execution_count": 38,
   "metadata": {
    "collapsed": false
   },
   "outputs": [
    {
     "name": "stdout",
     "output_type": "stream",
     "text": [
      "{a2: -0.06818055253845283, a1: 0.932718449430728}\n"
     ]
    }
   ],
   "source": [
    "sol = sympy.solve(A, a0,a1,a2)\n",
    "sol = dict(map(lambda x: (x, float(sol[x])), sol))\n",
    "print(sol)"
   ]
  },
  {
   "cell_type": "code",
   "execution_count": 32,
   "metadata": {
    "collapsed": false
   },
   "outputs": [
    {
     "name": "stdout",
     "output_type": "stream",
     "text": [
      "0.0681805525384528*x**4 - 1.00089900196918*x**2 + 0.932718449430728\n"
     ]
    }
   ],
   "source": [
    "sol[a0] = 0\n",
    "solution = y_m.subs((k, float(sol[k])) for k in sol)\n",
    "print(solution)\n",
    "# решение"
   ]
  },
  {
   "cell_type": "code",
   "execution_count": null,
   "metadata": {
    "collapsed": true
   },
   "outputs": [],
   "source": []
  }
 ],
 "metadata": {
  "kernelspec": {
   "display_name": "Python 3",
   "language": "python",
   "name": "python3"
  },
  "language_info": {
   "codemirror_mode": {
    "name": "ipython",
    "version": 3
   },
   "file_extension": ".py",
   "mimetype": "text/x-python",
   "name": "python",
   "nbconvert_exporter": "python",
   "pygments_lexer": "ipython3",
   "version": "3.4.3"
  }
 },
 "nbformat": 4,
 "nbformat_minor": 0
}
