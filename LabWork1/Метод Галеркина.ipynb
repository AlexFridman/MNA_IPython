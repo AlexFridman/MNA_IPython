{
 "cells": [
  {
   "cell_type": "code",
   "execution_count": 5,
   "metadata": {
    "collapsed": true
   },
   "outputs": [],
   "source": [
    "import sympy\n",
    "from sympy import *\n",
    "import numpy as np"
   ]
  },
  {
   "cell_type": "code",
   "execution_count": 6,
   "metadata": {
    "collapsed": false
   },
   "outputs": [],
   "source": [
    "x, a0 ,a1, a2 = symbols('x a0 a1 a2')"
   ]
  },
  {
   "cell_type": "code",
   "execution_count": 7,
   "metadata": {
    "collapsed": true
   },
   "outputs": [],
   "source": [
    "A = np.array([a0,a1,a2])"
   ]
  },
  {
   "cell_type": "code",
   "execution_count": 8,
   "metadata": {
    "collapsed": true
   },
   "outputs": [],
   "source": [
    "p = 0;\n",
    "q = (1 + x**2)\n",
    "f=-1;"
   ]
  },
  {
   "cell_type": "code",
   "execution_count": 9,
   "metadata": {
    "collapsed": true
   },
   "outputs": [],
   "source": [
    "phi = np.array([0, 1 - x**2, x**2 - x**4])\n",
    "y_m = np.dot(phi, A)"
   ]
  },
  {
   "cell_type": "code",
   "execution_count": 10,
   "metadata": {
    "collapsed": false
   },
   "outputs": [
    {
     "name": "stdout",
     "output_type": "stream",
     "text": [
      "a1*(-x**2 + 1) + a2*(-x**4 + x**2)\n"
     ]
    }
   ],
   "source": [
    "# апроксимирующая функция\n",
    "print(y_m)"
   ]
  },
  {
   "cell_type": "code",
   "execution_count": 11,
   "metadata": {
    "collapsed": false
   },
   "outputs": [
    {
     "name": "stdout",
     "output_type": "stream",
     "text": [
      "-a1*x**4 - a1 - a2*x**6 - 11*a2*x**2 + 2*a2 + 1\n"
     ]
    }
   ],
   "source": [
    "y_m_d1 = sympy.diff(y_m,x)\n",
    "y_m_d2 = sympy.diff(y_m_d1,x)\n",
    "# невязка\n",
    "psi_base = y_m_d2 + p * y_m_d1 + q * y_m - f\n",
    "print(simplify(psi_base))"
   ]
  },
  {
   "cell_type": "code",
   "execution_count": 20,
   "metadata": {
    "collapsed": false
   },
   "outputs": [
    {
     "name": "stdout",
     "output_type": "stream",
     "text": [
      "система: [0, -152*a1/105 - 104*a2/315 + 4/3, -104*a1/315 - 2648*a2/3465 + 4/15]\n"
     ]
    }
   ],
   "source": [
    "# система\n",
    "A = [integrate(a_i_temp, (x,-1,1)) for a_i_temp in phi*psi_base]\n",
    "print(\"система:\",  [simplify(A_i) for A_i in A])"
   ]
  },
  {
   "cell_type": "code",
   "execution_count": 21,
   "metadata": {
    "collapsed": true
   },
   "outputs": [],
   "source": [
    "sol = sympy.solve(A, a0,a1,a2)"
   ]
  },
  {
   "cell_type": "code",
   "execution_count": 23,
   "metadata": {
    "collapsed": false
   },
   "outputs": [
    {
     "name": "stdout",
     "output_type": "stream",
     "text": [
      "0.0543273753527752*x**4 - 0.987770460959548*x**2 + 0.933443085606773\n"
     ]
    }
   ],
   "source": [
    "sol[a0] = 0\n",
    "solution = y_m.subs((k, float(sol[k])) for k in sol)\n",
    "print(solution)\n",
    "# решение"
   ]
  }
 ],
 "metadata": {
  "kernelspec": {
   "display_name": "Python 3",
   "language": "python",
   "name": "python3"
  },
  "language_info": {
   "codemirror_mode": {
    "name": "ipython",
    "version": 3
   },
   "file_extension": ".py",
   "mimetype": "text/x-python",
   "name": "python",
   "nbconvert_exporter": "python",
   "pygments_lexer": "ipython3",
   "version": "3.4.3"
  }
 },
 "nbformat": 4,
 "nbformat_minor": 0
}
