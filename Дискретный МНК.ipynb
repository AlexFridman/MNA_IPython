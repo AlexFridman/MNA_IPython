{
 "cells": [
  {
   "cell_type": "code",
   "execution_count": 10,
   "metadata": {
    "collapsed": true
   },
   "outputs": [],
   "source": [
    "from sympy import *\n",
    "import numpy as np"
   ]
  },
  {
   "cell_type": "code",
   "execution_count": 2,
   "metadata": {
    "collapsed": true
   },
   "outputs": [],
   "source": [
    "x, a0 ,a1, a2 = sympy.symbols('x a0 a1 a2')"
   ]
  },
  {
   "cell_type": "code",
   "execution_count": 5,
   "metadata": {
    "collapsed": true
   },
   "outputs": [],
   "source": [
    "A = np.array([a0,a1,a2])"
   ]
  },
  {
   "cell_type": "code",
   "execution_count": 6,
   "metadata": {
    "collapsed": true
   },
   "outputs": [],
   "source": [
    "p = 0;\n",
    "q = (1 + x**2)\n",
    "f=-1;"
   ]
  },
  {
   "cell_type": "code",
   "execution_count": 7,
   "metadata": {
    "collapsed": true
   },
   "outputs": [],
   "source": [
    "phi = np.array([0, 1 - x**2, x**2 - x**4])\n",
    "y_m = np.dot(phi, A)"
   ]
  },
  {
   "cell_type": "code",
   "execution_count": 9,
   "metadata": {
    "collapsed": false
   },
   "outputs": [
    {
     "name": "stdout",
     "output_type": "stream",
     "text": [
      "a1*(-x**2 + 1) + a2*(-x**4 + x**2)\n"
     ]
    }
   ],
   "source": [
    "# апроксимирующая функция\n",
    "print(y_m)"
   ]
  },
  {
   "cell_type": "code",
   "execution_count": 11,
   "metadata": {
    "collapsed": false
   },
   "outputs": [
    {
     "name": "stdout",
     "output_type": "stream",
     "text": [
      "-a1*x**4 - a1 - a2*x**6 - 11*a2*x**2 + 2*a2 + 1\n"
     ]
    }
   ],
   "source": [
    "y_m_d1 = sympy.diff(y_m,x)\n",
    "y_m_d2 = sympy.diff(y_m_d1,x)\n",
    "# невязка\n",
    "psi_base = y_m_d2 + p * y_m_d1 + q * y_m - f\n",
    "print(simplify(psi_base))"
   ]
  },
  {
   "cell_type": "code",
   "execution_count": 14,
   "metadata": {
    "collapsed": false
   },
   "outputs": [
    {
     "name": "stdout",
     "output_type": "stream",
     "text": [
      "2*(-1.0625*a1 - 0.765625*a2 + 1)**2 + (-a1 + 2*a2 + 1)**2\n"
     ]
    }
   ],
   "source": [
    "x_0 = [-.5, 0, .5]\n",
    "S = sum([psi_base.subs(x, x_i)**2 for x_i in x_0])\n",
    "print(S)"
   ]
  },
  {
   "cell_type": "code",
   "execution_count": 15,
   "metadata": {
    "collapsed": false
   },
   "outputs": [
    {
     "name": "stdout",
     "output_type": "stream",
     "text": [
      "[0, 6.515625*a1 - 0.74609375*a2 - 6.25, -0.74609375*a1 + 10.3447265625*a2 + 0.9375]\n"
     ]
    }
   ],
   "source": [
    "# система\n",
    "S_da = [S.diff(a_i) for a_i in A]\n",
    "print(S_da)"
   ]
  },
  {
   "cell_type": "code",
   "execution_count": 16,
   "metadata": {
    "collapsed": false
   },
   "outputs": [
    {
     "name": "stdout",
     "output_type": "stream",
     "text": [
      "{a1: 0.956756756756757, a2: -0.0216216216216216}\n"
     ]
    }
   ],
   "source": [
    "sol = sympy.solve(S_da, a0,a1,a2)\n",
    "print(sol)"
   ]
  },
  {
   "cell_type": "code",
   "execution_count": 20,
   "metadata": {
    "collapsed": false
   },
   "outputs": [
    {
     "name": "stdout",
     "output_type": "stream",
     "text": [
      "0.0216216216216216*x**4 - 0.978378378378378*x**2 + 0.956756756756757\n"
     ]
    }
   ],
   "source": [
    "sol[a0] = 0\n",
    "solution = y_m.subs((k, sol[k]) for k in sol)\n",
    "print(solution)\n",
    "# решение"
   ]
  },
  {
   "cell_type": "code",
   "execution_count": null,
   "metadata": {
    "collapsed": true
   },
   "outputs": [],
   "source": []
  }
 ],
 "metadata": {
  "kernelspec": {
   "display_name": "Python 3",
   "language": "python",
   "name": "python3"
  },
  "language_info": {
   "codemirror_mode": {
    "name": "ipython",
    "version": 3
   },
   "file_extension": ".py",
   "mimetype": "text/x-python",
   "name": "python",
   "nbconvert_exporter": "python",
   "pygments_lexer": "ipython3",
   "version": "3.4.3"
  }
 },
 "nbformat": 4,
 "nbformat_minor": 0
}
